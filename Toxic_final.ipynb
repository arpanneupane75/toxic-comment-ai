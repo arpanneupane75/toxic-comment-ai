{
  "cells": [
    {
      "cell_type": "code",
      "execution_count": 9,
      "metadata": {
        "colab": {
          "base_uri": "https://localhost:8080/"
        },
        "id": "9XfGckjQ3aIZ",
        "outputId": "1b482d9b-b2fd-4460-a672-363abf73f99d"
      },
      "outputs": [
        {
          "name": "stderr",
          "output_type": "stream",
          "text": [
            "[nltk_data] Downloading package stopwords to /root/nltk_data...\n",
            "[nltk_data]   Package stopwords is already up-to-date!\n",
            "[nltk_data] Downloading package punkt to /root/nltk_data...\n",
            "[nltk_data]   Package punkt is already up-to-date!\n",
            "[nltk_data] Downloading package wordnet to /root/nltk_data...\n",
            "[nltk_data]   Package wordnet is already up-to-date!\n",
            "[nltk_data] Downloading package punkt_tab to /root/nltk_data...\n",
            "[nltk_data]   Unzipping tokenizers/punkt_tab.zip.\n"
          ]
        }
      ],
      "source": [
        "# Core Libraries\n",
        "import re, string, time\n",
        "import numpy as np\n",
        "import pandas as pd\n",
        "import matplotlib.pyplot as plt\n",
        "\n",
        "\n",
        "# Sklearn Models & Tools\n",
        "from sklearn.model_selection import train_test_split\n",
        "from sklearn.feature_extraction.text import TfidfVectorizer\n",
        "from sklearn.linear_model import LogisticRegression, RidgeClassifier, SGDClassifier\n",
        "from sklearn.naive_bayes import MultinomialNB\n",
        "from sklearn.ensemble import (\n",
        "RandomForestClassifier, ExtraTreesClassifier, AdaBoostClassifier, GradientBoostingClassifier\n",
        ")\n",
        "from sklearn.svm import LinearSVC\n",
        "from sklearn.multiclass import OneVsRestClassifier\n",
        "from sklearn.tree import DecisionTreeClassifier\n",
        "from sklearn.neighbors import KNeighborsClassifier\n",
        "from sklearn.metrics import (\n",
        "roc_auc_score, accuracy_score, precision_score, recall_score, f1_score,\n",
        "classification_report, confusion_matrix\n",
        ")\n",
        "\n",
        "\n",
        "# LightGBM\n",
        "from lightgbm import LGBMClassifier\n",
        "\n",
        "\n",
        "# NLTK for preprocessing\n",
        "import nltk\n",
        "nltk.download(\"stopwords\")\n",
        "nltk.download(\"punkt\")\n",
        "nltk.download(\"wordnet\")\n",
        "nltk.download(\"punkt_tab\")\n",
        "from nltk.corpus import stopwords\n",
        "from nltk.stem import WordNetLemmatizer\n",
        "\n",
        "\n",
        "stop_words = set(stopwords.words(\"english\"))\n",
        "lemmatizer = WordNetLemmatizer()"
      ]
    },
    {
      "cell_type": "code",
      "execution_count": 6,
      "metadata": {
        "id": "YBtReQgT3aG1"
      },
      "outputs": [],
      "source": [
        "def clean_text(text):\n",
        "    \"\"\"Rigorous preprocessing: lowercase, remove HTML, punctuation, stopwords, lemmatize\"\"\"\n",
        "    text = text.lower()\n",
        "    text = re.sub(r\"<.*?>\", \" \", text) # HTML tags\n",
        "    text = re.sub(r\"[^a-z\\s]\", \" \", text) # keep only letters\n",
        "    tokens = nltk.word_tokenize(text) # tokenize\n",
        "    tokens = [lemmatizer.lemmatize(w) for w in tokens if w not in stop_words]\n",
        "    return \" \".join(tokens)"
      ]
    },
    {
      "cell_type": "code",
      "execution_count": 56,
      "metadata": {
        "colab": {
          "base_uri": "https://localhost:8080/"
        },
        "id": "5X-v28I93aEv",
        "outputId": "72f00343-fb32-481e-f1ab-986092db8d9d"
      },
      "outputs": [
        {
          "name": "stdout",
          "output_type": "stream",
          "text": [
            "Original size: 159571\n",
            "Reduced size: 50000\n",
            "Positive examples kept (>=1 label): 16225\n",
            "Negative examples sampled: 33775\n"
          ]
        }
      ],
      "source": [
        "# Load dataset\n",
        "df = pd.read_csv(\"train.csv\")\n",
        "labels = [\"toxic\", \"severe_toxic\", \"obscene\", \"threat\", \"insult\", \"identity_hate\"]\n",
        "\n",
        "\n",
        "# Smart 50k subset selection\n",
        "df[\"has_label\"] = df[labels].sum(axis=1) > 0\n",
        "toxic_rows = df[df[\"has_label\"]].copy()\n",
        "clean_rows = df[~df[\"has_label\"]].copy()\n",
        "\n",
        "\n",
        "target_size = 50000\n",
        "needed_clean = max(0, target_size - len(toxic_rows))\n",
        "\n",
        "\n",
        "clean_sample = clean_rows.sample(n=min(needed_clean, len(clean_rows)), random_state=42)\n",
        "df_reduced = pd.concat([toxic_rows, clean_sample]).reset_index(drop=True)\n",
        "df_reduced = df_reduced.drop(columns=[\"has_label\"])\n",
        "\n",
        "df_reduced.head(10)\n",
        "print(\"Original size:\", len(df))\n",
        "print(\"Reduced size:\", len(df_reduced))\n",
        "print(\"Positive examples kept (>=1 label):\", len(toxic_rows))\n",
        "print(\"Negative examples sampled:\", len(clean_sample))"
      ]
    },
    {
      "cell_type": "code",
      "execution_count": 58,
      "metadata": {
        "colab": {
          "base_uri": "https://localhost:8080/",
          "height": 452
        },
        "id": "yEOmJFbM5peE",
        "outputId": "88e19bf8-dc9d-4176-ba6b-de74056f34c1"
      },
      "outputs": [
        {
          "name": "stdout",
          "output_type": "stream",
          "text": [
            "(1405, 8)\n"
          ]
        },
        {
          "data": {
            "application/vnd.google.colaboratory.intrinsic+json": {
              "summary": "{\n  \"name\": \"df_identity_hate\",\n  \"rows\": 1405,\n  \"fields\": [\n    {\n      \"column\": \"id\",\n      \"properties\": {\n        \"dtype\": \"string\",\n        \"num_unique_values\": 1405,\n        \"samples\": [\n          \"9903cd41f8b37abb\",\n          \"992573b52e286930\",\n          \"cbe07eaf3166d605\"\n        ],\n        \"semantic_type\": \"\",\n        \"description\": \"\"\n      }\n    },\n    {\n      \"column\": \"comment_text\",\n      \"properties\": {\n        \"dtype\": \"string\",\n        \"num_unique_values\": 1405,\n        \"samples\": [\n          \"REDIRECT Talk:Bolivian chinchilla rat\",\n          \"TO SITUSH(PAKISTANI  PIG) \\n\\nWhat  is your problem, you bloody muslim pakistani, why the hell are you jealous of HINDUS and SIKHS ???\\n\\nyou born out of shit of a pig just stay away from this article...we don't prefer pakistani muslim pigs touching this pious article.\",\n          \"Bloody asshole \\n\\nYou are a bloody asshole and fucking hijra, chootiya and if you block then remember i will hack your account and find you. i will beat you so hard that you will remember.\"\n        ],\n        \"semantic_type\": \"\",\n        \"description\": \"\"\n      }\n    },\n    {\n      \"column\": \"toxic\",\n      \"properties\": {\n        \"dtype\": \"number\",\n        \"std\": 0,\n        \"min\": 0,\n        \"max\": 1,\n        \"num_unique_values\": 2,\n        \"samples\": [\n          0,\n          1\n        ],\n        \"semantic_type\": \"\",\n        \"description\": \"\"\n      }\n    },\n    {\n      \"column\": \"severe_toxic\",\n      \"properties\": {\n        \"dtype\": \"number\",\n        \"std\": 0,\n        \"min\": 0,\n        \"max\": 1,\n        \"num_unique_values\": 2,\n        \"samples\": [\n          1,\n          0\n        ],\n        \"semantic_type\": \"\",\n        \"description\": \"\"\n      }\n    },\n    {\n      \"column\": \"obscene\",\n      \"properties\": {\n        \"dtype\": \"number\",\n        \"std\": 0,\n        \"min\": 0,\n        \"max\": 1,\n        \"num_unique_values\": 2,\n        \"samples\": [\n          0,\n          1\n        ],\n        \"semantic_type\": \"\",\n        \"description\": \"\"\n      }\n    },\n    {\n      \"column\": \"threat\",\n      \"properties\": {\n        \"dtype\": \"number\",\n        \"std\": 0,\n        \"min\": 0,\n        \"max\": 1,\n        \"num_unique_values\": 2,\n        \"samples\": [\n          1,\n          0\n        ],\n        \"semantic_type\": \"\",\n        \"description\": \"\"\n      }\n    },\n    {\n      \"column\": \"insult\",\n      \"properties\": {\n        \"dtype\": \"number\",\n        \"std\": 0,\n        \"min\": 0,\n        \"max\": 1,\n        \"num_unique_values\": 2,\n        \"samples\": [\n          0,\n          1\n        ],\n        \"semantic_type\": \"\",\n        \"description\": \"\"\n      }\n    },\n    {\n      \"column\": \"identity_hate\",\n      \"properties\": {\n        \"dtype\": \"number\",\n        \"std\": 0,\n        \"min\": 1,\n        \"max\": 1,\n        \"num_unique_values\": 1,\n        \"samples\": [\n          1\n        ],\n        \"semantic_type\": \"\",\n        \"description\": \"\"\n      }\n    }\n  ]\n}",
              "type": "dataframe",
              "variable_name": "df_identity_hate"
            },
            "text/html": [
              "\n",
              "  <div id=\"df-a4ef357d-bba6-4dd3-8614-f610cc47bf79\" class=\"colab-df-container\">\n",
              "    <div>\n",
              "<style scoped>\n",
              "    .dataframe tbody tr th:only-of-type {\n",
              "        vertical-align: middle;\n",
              "    }\n",
              "\n",
              "    .dataframe tbody tr th {\n",
              "        vertical-align: top;\n",
              "    }\n",
              "\n",
              "    .dataframe thead th {\n",
              "        text-align: right;\n",
              "    }\n",
              "</style>\n",
              "<table border=\"1\" class=\"dataframe\">\n",
              "  <thead>\n",
              "    <tr style=\"text-align: right;\">\n",
              "      <th></th>\n",
              "      <th>id</th>\n",
              "      <th>comment_text</th>\n",
              "      <th>toxic</th>\n",
              "      <th>severe_toxic</th>\n",
              "      <th>obscene</th>\n",
              "      <th>threat</th>\n",
              "      <th>insult</th>\n",
              "      <th>identity_hate</th>\n",
              "    </tr>\n",
              "  </thead>\n",
              "  <tbody>\n",
              "    <tr>\n",
              "      <th>3</th>\n",
              "      <td>001810bf8c45bf5f</td>\n",
              "      <td>You are gay or antisemmitian? \\n\\nArchangel WH...</td>\n",
              "      <td>1</td>\n",
              "      <td>0</td>\n",
              "      <td>1</td>\n",
              "      <td>0</td>\n",
              "      <td>1</td>\n",
              "      <td>1</td>\n",
              "    </tr>\n",
              "    <tr>\n",
              "      <th>14</th>\n",
              "      <td>00472b8e2d38d1ea</td>\n",
              "      <td>A pair of jew-hating weiner nazi schmucks.</td>\n",
              "      <td>1</td>\n",
              "      <td>0</td>\n",
              "      <td>1</td>\n",
              "      <td>0</td>\n",
              "      <td>1</td>\n",
              "      <td>1</td>\n",
              "    </tr>\n",
              "    <tr>\n",
              "      <th>18</th>\n",
              "      <td>006b94add72ed61c</td>\n",
              "      <td>I think that your a Fagget get a oife and burn...</td>\n",
              "      <td>1</td>\n",
              "      <td>0</td>\n",
              "      <td>1</td>\n",
              "      <td>1</td>\n",
              "      <td>1</td>\n",
              "      <td>1</td>\n",
              "    </tr>\n",
              "    <tr>\n",
              "      <th>24</th>\n",
              "      <td>008e0818dde894fb</td>\n",
              "      <td>Kill all niggers. \\n\\nI have hard, that others...</td>\n",
              "      <td>1</td>\n",
              "      <td>0</td>\n",
              "      <td>1</td>\n",
              "      <td>0</td>\n",
              "      <td>1</td>\n",
              "      <td>1</td>\n",
              "    </tr>\n",
              "    <tr>\n",
              "      <th>26</th>\n",
              "      <td>0097dd5c29bf7a15</td>\n",
              "      <td>u r a tw@ fuck off u gay boy.U r smelly.Fuck u...</td>\n",
              "      <td>1</td>\n",
              "      <td>0</td>\n",
              "      <td>1</td>\n",
              "      <td>0</td>\n",
              "      <td>1</td>\n",
              "      <td>1</td>\n",
              "    </tr>\n",
              "  </tbody>\n",
              "</table>\n",
              "</div>\n",
              "    <div class=\"colab-df-buttons\">\n",
              "\n",
              "  <div class=\"colab-df-container\">\n",
              "    <button class=\"colab-df-convert\" onclick=\"convertToInteractive('df-a4ef357d-bba6-4dd3-8614-f610cc47bf79')\"\n",
              "            title=\"Convert this dataframe to an interactive table.\"\n",
              "            style=\"display:none;\">\n",
              "\n",
              "  <svg xmlns=\"http://www.w3.org/2000/svg\" height=\"24px\" viewBox=\"0 -960 960 960\">\n",
              "    <path d=\"M120-120v-720h720v720H120Zm60-500h600v-160H180v160Zm220 220h160v-160H400v160Zm0 220h160v-160H400v160ZM180-400h160v-160H180v160Zm440 0h160v-160H620v160ZM180-180h160v-160H180v160Zm440 0h160v-160H620v160Z\"/>\n",
              "  </svg>\n",
              "    </button>\n",
              "\n",
              "  <style>\n",
              "    .colab-df-container {\n",
              "      display:flex;\n",
              "      gap: 12px;\n",
              "    }\n",
              "\n",
              "    .colab-df-convert {\n",
              "      background-color: #E8F0FE;\n",
              "      border: none;\n",
              "      border-radius: 50%;\n",
              "      cursor: pointer;\n",
              "      display: none;\n",
              "      fill: #1967D2;\n",
              "      height: 32px;\n",
              "      padding: 0 0 0 0;\n",
              "      width: 32px;\n",
              "    }\n",
              "\n",
              "    .colab-df-convert:hover {\n",
              "      background-color: #E2EBFA;\n",
              "      box-shadow: 0px 1px 2px rgba(60, 64, 67, 0.3), 0px 1px 3px 1px rgba(60, 64, 67, 0.15);\n",
              "      fill: #174EA6;\n",
              "    }\n",
              "\n",
              "    .colab-df-buttons div {\n",
              "      margin-bottom: 4px;\n",
              "    }\n",
              "\n",
              "    [theme=dark] .colab-df-convert {\n",
              "      background-color: #3B4455;\n",
              "      fill: #D2E3FC;\n",
              "    }\n",
              "\n",
              "    [theme=dark] .colab-df-convert:hover {\n",
              "      background-color: #434B5C;\n",
              "      box-shadow: 0px 1px 3px 1px rgba(0, 0, 0, 0.15);\n",
              "      filter: drop-shadow(0px 1px 2px rgba(0, 0, 0, 0.3));\n",
              "      fill: #FFFFFF;\n",
              "    }\n",
              "  </style>\n",
              "\n",
              "    <script>\n",
              "      const buttonEl =\n",
              "        document.querySelector('#df-a4ef357d-bba6-4dd3-8614-f610cc47bf79 button.colab-df-convert');\n",
              "      buttonEl.style.display =\n",
              "        google.colab.kernel.accessAllowed ? 'block' : 'none';\n",
              "\n",
              "      async function convertToInteractive(key) {\n",
              "        const element = document.querySelector('#df-a4ef357d-bba6-4dd3-8614-f610cc47bf79');\n",
              "        const dataTable =\n",
              "          await google.colab.kernel.invokeFunction('convertToInteractive',\n",
              "                                                    [key], {});\n",
              "        if (!dataTable) return;\n",
              "\n",
              "        const docLinkHtml = 'Like what you see? Visit the ' +\n",
              "          '<a target=\"_blank\" href=https://colab.research.google.com/notebooks/data_table.ipynb>data table notebook</a>'\n",
              "          + ' to learn more about interactive tables.';\n",
              "        element.innerHTML = '';\n",
              "        dataTable['output_type'] = 'display_data';\n",
              "        await google.colab.output.renderOutput(dataTable, element);\n",
              "        const docLink = document.createElement('div');\n",
              "        docLink.innerHTML = docLinkHtml;\n",
              "        element.appendChild(docLink);\n",
              "      }\n",
              "    </script>\n",
              "  </div>\n",
              "\n",
              "\n",
              "    <div id=\"df-7b4da354-1490-4abc-b9ad-be48f0f69925\">\n",
              "      <button class=\"colab-df-quickchart\" onclick=\"quickchart('df-7b4da354-1490-4abc-b9ad-be48f0f69925')\"\n",
              "                title=\"Suggest charts\"\n",
              "                style=\"display:none;\">\n",
              "\n",
              "<svg xmlns=\"http://www.w3.org/2000/svg\" height=\"24px\"viewBox=\"0 0 24 24\"\n",
              "     width=\"24px\">\n",
              "    <g>\n",
              "        <path d=\"M19 3H5c-1.1 0-2 .9-2 2v14c0 1.1.9 2 2 2h14c1.1 0 2-.9 2-2V5c0-1.1-.9-2-2-2zM9 17H7v-7h2v7zm4 0h-2V7h2v10zm4 0h-2v-4h2v4z\"/>\n",
              "    </g>\n",
              "</svg>\n",
              "      </button>\n",
              "\n",
              "<style>\n",
              "  .colab-df-quickchart {\n",
              "      --bg-color: #E8F0FE;\n",
              "      --fill-color: #1967D2;\n",
              "      --hover-bg-color: #E2EBFA;\n",
              "      --hover-fill-color: #174EA6;\n",
              "      --disabled-fill-color: #AAA;\n",
              "      --disabled-bg-color: #DDD;\n",
              "  }\n",
              "\n",
              "  [theme=dark] .colab-df-quickchart {\n",
              "      --bg-color: #3B4455;\n",
              "      --fill-color: #D2E3FC;\n",
              "      --hover-bg-color: #434B5C;\n",
              "      --hover-fill-color: #FFFFFF;\n",
              "      --disabled-bg-color: #3B4455;\n",
              "      --disabled-fill-color: #666;\n",
              "  }\n",
              "\n",
              "  .colab-df-quickchart {\n",
              "    background-color: var(--bg-color);\n",
              "    border: none;\n",
              "    border-radius: 50%;\n",
              "    cursor: pointer;\n",
              "    display: none;\n",
              "    fill: var(--fill-color);\n",
              "    height: 32px;\n",
              "    padding: 0;\n",
              "    width: 32px;\n",
              "  }\n",
              "\n",
              "  .colab-df-quickchart:hover {\n",
              "    background-color: var(--hover-bg-color);\n",
              "    box-shadow: 0 1px 2px rgba(60, 64, 67, 0.3), 0 1px 3px 1px rgba(60, 64, 67, 0.15);\n",
              "    fill: var(--button-hover-fill-color);\n",
              "  }\n",
              "\n",
              "  .colab-df-quickchart-complete:disabled,\n",
              "  .colab-df-quickchart-complete:disabled:hover {\n",
              "    background-color: var(--disabled-bg-color);\n",
              "    fill: var(--disabled-fill-color);\n",
              "    box-shadow: none;\n",
              "  }\n",
              "\n",
              "  .colab-df-spinner {\n",
              "    border: 2px solid var(--fill-color);\n",
              "    border-color: transparent;\n",
              "    border-bottom-color: var(--fill-color);\n",
              "    animation:\n",
              "      spin 1s steps(1) infinite;\n",
              "  }\n",
              "\n",
              "  @keyframes spin {\n",
              "    0% {\n",
              "      border-color: transparent;\n",
              "      border-bottom-color: var(--fill-color);\n",
              "      border-left-color: var(--fill-color);\n",
              "    }\n",
              "    20% {\n",
              "      border-color: transparent;\n",
              "      border-left-color: var(--fill-color);\n",
              "      border-top-color: var(--fill-color);\n",
              "    }\n",
              "    30% {\n",
              "      border-color: transparent;\n",
              "      border-left-color: var(--fill-color);\n",
              "      border-top-color: var(--fill-color);\n",
              "      border-right-color: var(--fill-color);\n",
              "    }\n",
              "    40% {\n",
              "      border-color: transparent;\n",
              "      border-right-color: var(--fill-color);\n",
              "      border-top-color: var(--fill-color);\n",
              "    }\n",
              "    60% {\n",
              "      border-color: transparent;\n",
              "      border-right-color: var(--fill-color);\n",
              "    }\n",
              "    80% {\n",
              "      border-color: transparent;\n",
              "      border-right-color: var(--fill-color);\n",
              "      border-bottom-color: var(--fill-color);\n",
              "    }\n",
              "    90% {\n",
              "      border-color: transparent;\n",
              "      border-bottom-color: var(--fill-color);\n",
              "    }\n",
              "  }\n",
              "</style>\n",
              "\n",
              "      <script>\n",
              "        async function quickchart(key) {\n",
              "          const quickchartButtonEl =\n",
              "            document.querySelector('#' + key + ' button');\n",
              "          quickchartButtonEl.disabled = true;  // To prevent multiple clicks.\n",
              "          quickchartButtonEl.classList.add('colab-df-spinner');\n",
              "          try {\n",
              "            const charts = await google.colab.kernel.invokeFunction(\n",
              "                'suggestCharts', [key], {});\n",
              "          } catch (error) {\n",
              "            console.error('Error during call to suggestCharts:', error);\n",
              "          }\n",
              "          quickchartButtonEl.classList.remove('colab-df-spinner');\n",
              "          quickchartButtonEl.classList.add('colab-df-quickchart-complete');\n",
              "        }\n",
              "        (() => {\n",
              "          let quickchartButtonEl =\n",
              "            document.querySelector('#df-7b4da354-1490-4abc-b9ad-be48f0f69925 button');\n",
              "          quickchartButtonEl.style.display =\n",
              "            google.colab.kernel.accessAllowed ? 'block' : 'none';\n",
              "        })();\n",
              "      </script>\n",
              "    </div>\n",
              "\n",
              "    </div>\n",
              "  </div>\n"
            ],
            "text/plain": [
              "                  id                                       comment_text  \\\n",
              "3   001810bf8c45bf5f  You are gay or antisemmitian? \\n\\nArchangel WH...   \n",
              "14  00472b8e2d38d1ea         A pair of jew-hating weiner nazi schmucks.   \n",
              "18  006b94add72ed61c  I think that your a Fagget get a oife and burn...   \n",
              "24  008e0818dde894fb  Kill all niggers. \\n\\nI have hard, that others...   \n",
              "26  0097dd5c29bf7a15  u r a tw@ fuck off u gay boy.U r smelly.Fuck u...   \n",
              "\n",
              "    toxic  severe_toxic  obscene  threat  insult  identity_hate  \n",
              "3       1             0        1       0       1              1  \n",
              "14      1             0        1       0       1              1  \n",
              "18      1             0        1       1       1              1  \n",
              "24      1             0        1       0       1              1  \n",
              "26      1             0        1       0       1              1  "
            ]
          },
          "execution_count": 58,
          "metadata": {},
          "output_type": "execute_result"
        }
      ],
      "source": [
        "df_identity_hate = df_reduced[df_reduced['identity_hate'] == 1]\n",
        "print(df_identity_hate.shape)\n",
        "df_identity_hate.head()\n"
      ]
    },
    {
      "cell_type": "code",
      "execution_count": 11,
      "metadata": {
        "id": "PnDSpxKr3aDA"
      },
      "outputs": [],
      "source": [
        "df_reduced[\"clean_text\"] = df_reduced[\"comment_text\"].apply(clean_text)\n",
        "\n",
        "\n",
        "\n",
        "# Split Data\n",
        "X = df_reduced[\"clean_text\"]\n",
        "y = df_reduced[labels]\n",
        "\n",
        "\n",
        "X_train, X_temp, y_train, y_temp = train_test_split(X, y, test_size=0.3, random_state=42)\n",
        "X_valid, X_test, y_valid, y_test = train_test_split(X_temp, y_temp, test_size=0.5, random_state=42)\n",
        "\n",
        "\n",
        "# TF-IDF Vectorizer\n",
        "vectorizer = TfidfVectorizer(max_features=20000, stop_words=\"english\", ngram_range=(1,2))\n",
        "X_train_tfidf = vectorizer.fit_transform(X_train)\n",
        "X_valid_tfidf = vectorizer.transform(X_valid)\n",
        "X_test_tfidf = vectorizer.transform(X_test)"
      ]
    },
    {
      "cell_type": "code",
      "execution_count": 37,
      "metadata": {
        "id": "CWPjgQO93aA2"
      },
      "outputs": [],
      "source": [
        "def evaluate_model(name, model, X_train, y_train, X_valid, y_valid):\n",
        "    start = time.time()\n",
        "    clf = OneVsRestClassifier(model, n_jobs=-1)\n",
        "    clf.fit(X_train, y_train)\n",
        "\n",
        "\n",
        "    # Predict probabilities or decision function\n",
        "    if hasattr(clf, \"predict_proba\"):\n",
        "        y_pred = clf.predict_proba(X_valid)\n",
        "    else:\n",
        "        y_pred = clf.decision_function(X_valid)\n",
        "        y_pred = (y_pred - y_pred.min()) / (y_pred.max() - y_pred.min())\n",
        "\n",
        "\n",
        "    # Threshold 0.5 for classification\n",
        "    y_pred_bin = (y_pred >= 0.5).astype(int)\n",
        "\n",
        "\n",
        "    # Metrics\n",
        "    auc = roc_auc_score(y_valid, y_pred, average=\"macro\")\n",
        "    acc = accuracy_score(y_valid, y_pred_bin)\n",
        "    prec = precision_score(y_valid, y_pred_bin, average=\"macro\", zero_division=0)\n",
        "    rec = recall_score(y_valid, y_pred_bin, average=\"macro\", zero_division=0)\n",
        "    f1 = f1_score(y_valid, y_pred_bin, average=\"macro\", zero_division=0)\n",
        "\n",
        "\n",
        "    return [name, auc, acc, prec, rec, f1, round(time.time()-start, 2)], clf"
      ]
    },
    {
      "cell_type": "code",
      "execution_count": 38,
      "metadata": {
        "colab": {
          "base_uri": "https://localhost:8080/"
        },
        "id": "peFF1P9Y3Z-w",
        "outputId": "51efe9c3-5b89-4f54-da69-06d1eb7d9412"
      },
      "outputs": [
        {
          "name": "stderr",
          "output_type": "stream",
          "text": [
            "/usr/local/lib/python3.12/dist-packages/joblib/externals/loky/process_executor.py:782: UserWarning: A worker stopped while some jobs were given to the executor. This can be caused by a too short worker timeout or by a memory leak.\n",
            "  warnings.warn(\n"
          ]
        }
      ],
      "source": [
        "models = {}\n",
        "results = []\n",
        "\n",
        "\n",
        "# List of classical models\n",
        "classical_models = {\n",
        "\"Logistic Regression\": LogisticRegression(C=2, solver=\"lbfgs\", max_iter=200),\n",
        "\"Naive Bayes\": MultinomialNB(),\n",
        "\"Random Forest\": RandomForestClassifier(n_estimators=200, n_jobs=-1),\n",
        "\"Linear SVC\": LinearSVC(C=1.0, max_iter=2000),\n",
        "\"Ridge Classifier\": RidgeClassifier(alpha=1.0),\n",
        "\"Decision Tree\": DecisionTreeClassifier(max_depth=30, random_state=42),\n",
        "\"KNN\": KNeighborsClassifier(n_neighbors=10),\n",
        "\"SGD Classifier\": SGDClassifier(max_iter=1000, tol=1e-3),\n",
        "\"Extra Trees\": ExtraTreesClassifier(n_estimators=200, n_jobs=-1),\n",
        "\"AdaBoost\": AdaBoostClassifier(n_estimators=200),\n",
        "\"Gradient Boosting\": GradientBoostingClassifier(n_estimators=200)\n",
        "}\n",
        "\n",
        "\n",
        "# Train and evaluate\n",
        "for name, model in classical_models.items():\n",
        "    res, clf = evaluate_model(name, model, X_train_tfidf, y_train, X_valid_tfidf, y_valid)\n",
        "    results.append(res)\n",
        "\n",
        "    models[name] = clf"
      ]
    },
    {
      "cell_type": "code",
      "execution_count": 39,
      "metadata": {
        "colab": {
          "base_uri": "https://localhost:8080/"
        },
        "id": "l7oLaoZl3Z8r",
        "outputId": "5462f9e7-e904-480f-a3d7-669282a4557e"
      },
      "outputs": [
        {
          "name": "stdout",
          "output_type": "stream",
          "text": [
            "[LightGBM] [Info] Number of positive: 10660, number of negative: 24340\n",
            "[LightGBM] [Info] Total Bins 207861\n",
            "[LightGBM] [Info] Number of data points in the train set: 35000, number of used features: 6206\n",
            "[LightGBM] [Info] [binary:BoostFromScore]: pavg=0.304571 -> initscore=-0.825623\n",
            "[LightGBM] [Info] Start training from score -0.825623\n",
            "Training until validation scores don't improve for 20 rounds\n",
            "Did not meet early stopping. Best iteration is:\n",
            "[197]\tvalid_0's auc: 0.952502\tvalid_0's binary_logloss: 0.252174\n"
          ]
        },
        {
          "name": "stderr",
          "output_type": "stream",
          "text": [
            "/usr/local/lib/python3.12/dist-packages/sklearn/utils/validation.py:2739: UserWarning: X does not have valid feature names, but LGBMClassifier was fitted with feature names\n",
            "  warnings.warn(\n"
          ]
        },
        {
          "name": "stdout",
          "output_type": "stream",
          "text": [
            "[LightGBM] [Info] Number of positive: 1109, number of negative: 33891\n",
            "[LightGBM] [Info] Total Bins 207861\n",
            "[LightGBM] [Info] Number of data points in the train set: 35000, number of used features: 6206\n",
            "[LightGBM] [Info] [binary:BoostFromScore]: pavg=0.031686 -> initscore=-3.419691\n",
            "[LightGBM] [Info] Start training from score -3.419691\n",
            "Training until validation scores don't improve for 20 rounds\n",
            "Early stopping, best iteration is:\n",
            "[67]\tvalid_0's auc: 0.951934\tvalid_0's binary_logloss: 0.0785841\n"
          ]
        },
        {
          "name": "stderr",
          "output_type": "stream",
          "text": [
            "/usr/local/lib/python3.12/dist-packages/sklearn/utils/validation.py:2739: UserWarning: X does not have valid feature names, but LGBMClassifier was fitted with feature names\n",
            "  warnings.warn(\n"
          ]
        },
        {
          "name": "stdout",
          "output_type": "stream",
          "text": [
            "[LightGBM] [Info] Number of positive: 5876, number of negative: 29124\n",
            "[LightGBM] [Info] Total Bins 207861\n",
            "[LightGBM] [Info] Number of data points in the train set: 35000, number of used features: 6206\n",
            "[LightGBM] [Info] [binary:BoostFromScore]: pavg=0.167886 -> initscore=-1.600686\n",
            "[LightGBM] [Info] Start training from score -1.600686\n",
            "Training until validation scores don't improve for 20 rounds\n",
            "Early stopping, best iteration is:\n",
            "[67]\tvalid_0's auc: 0.962502\tvalid_0's binary_logloss: 0.169158\n"
          ]
        },
        {
          "name": "stderr",
          "output_type": "stream",
          "text": [
            "/usr/local/lib/python3.12/dist-packages/sklearn/utils/validation.py:2739: UserWarning: X does not have valid feature names, but LGBMClassifier was fitted with feature names\n",
            "  warnings.warn(\n"
          ]
        },
        {
          "name": "stdout",
          "output_type": "stream",
          "text": [
            "[LightGBM] [Info] Number of positive: 343, number of negative: 34657\n",
            "[LightGBM] [Info] Total Bins 207861\n",
            "[LightGBM] [Info] Number of data points in the train set: 35000, number of used features: 6206\n",
            "[LightGBM] [Info] [binary:BoostFromScore]: pavg=0.009800 -> initscore=-4.615525\n",
            "[LightGBM] [Info] Start training from score -4.615525\n",
            "Training until validation scores don't improve for 20 rounds\n",
            "Early stopping, best iteration is:\n",
            "[19]\tvalid_0's auc: 0.954247\tvalid_0's binary_logloss: 0.0267053\n"
          ]
        },
        {
          "name": "stderr",
          "output_type": "stream",
          "text": [
            "/usr/local/lib/python3.12/dist-packages/sklearn/utils/validation.py:2739: UserWarning: X does not have valid feature names, but LGBMClassifier was fitted with feature names\n",
            "  warnings.warn(\n"
          ]
        },
        {
          "name": "stdout",
          "output_type": "stream",
          "text": [
            "[LightGBM] [Info] Number of positive: 5441, number of negative: 29559\n",
            "[LightGBM] [Info] Total Bins 207861\n",
            "[LightGBM] [Info] Number of data points in the train set: 35000, number of used features: 6206\n",
            "[LightGBM] [Info] [binary:BoostFromScore]: pavg=0.155457 -> initscore=-1.692425\n",
            "[LightGBM] [Info] Start training from score -1.692425\n",
            "Training until validation scores don't improve for 20 rounds\n",
            "Early stopping, best iteration is:\n",
            "[97]\tvalid_0's auc: 0.937753\tvalid_0's binary_logloss: 0.219114\n"
          ]
        },
        {
          "name": "stderr",
          "output_type": "stream",
          "text": [
            "/usr/local/lib/python3.12/dist-packages/sklearn/utils/validation.py:2739: UserWarning: X does not have valid feature names, but LGBMClassifier was fitted with feature names\n",
            "  warnings.warn(\n"
          ]
        },
        {
          "name": "stdout",
          "output_type": "stream",
          "text": [
            "[LightGBM] [Info] Number of positive: 966, number of negative: 34034\n",
            "[LightGBM] [Info] Total Bins 207861\n",
            "[LightGBM] [Info] Number of data points in the train set: 35000, number of used features: 6206\n",
            "[LightGBM] [Info] [binary:BoostFromScore]: pavg=0.027600 -> initscore=-3.561951\n",
            "[LightGBM] [Info] Start training from score -3.561951\n",
            "Training until validation scores don't improve for 20 rounds\n",
            "Early stopping, best iteration is:\n",
            "[20]\tvalid_0's auc: 0.923918\tvalid_0's binary_logloss: 0.0796948\n"
          ]
        },
        {
          "name": "stderr",
          "output_type": "stream",
          "text": [
            "/usr/local/lib/python3.12/dist-packages/sklearn/utils/validation.py:2739: UserWarning: X does not have valid feature names, but LGBMClassifier was fitted with feature names\n",
            "  warnings.warn(\n"
          ]
        }
      ],
      "source": [
        "from lightgbm.callback import early_stopping\n",
        "\n",
        "\n",
        "def train_lightgbm_multilabel(X_train, y_train, X_valid, y_valid, labels):\n",
        "    aucs, accs, precs, recs, f1s = [], [], [], [], []\n",
        "    models = {}\n",
        "    start = time.time()\n",
        "\n",
        "\n",
        "    for label in labels:\n",
        "        lgb = LGBMClassifier(\n",
        "            n_estimators=200,\n",
        "            learning_rate=0.1,\n",
        "            num_leaves=32,\n",
        "            n_jobs=-1,\n",
        "            force_col_wise=True,\n",
        "            random_state=42\n",
        "        )\n",
        "        lgb.fit(\n",
        "            X_train, y_train[label],\n",
        "            eval_set=[(X_valid, y_valid[label])],\n",
        "            eval_metric=\"auc\",\n",
        "            callbacks=[early_stopping(stopping_rounds=20, verbose=-1)]\n",
        "        )\n",
        "\n",
        "\n",
        "        y_pred = lgb.predict_proba(X_valid)[:,1]\n",
        "        y_bin = (y_pred >= 0.5).astype(int)\n",
        "\n",
        "\n",
        "        aucs.append(roc_auc_score(y_valid[label], y_pred))\n",
        "        accs.append(accuracy_score(y_valid[label], y_bin))\n",
        "        precs.append(precision_score(y_valid[label], y_bin, zero_division=0))\n",
        "        recs.append(recall_score(y_valid[label], y_bin, zero_division=0))\n",
        "        f1s.append(f1_score(y_valid[label], y_bin, zero_division=0))\n",
        "        models[label] = lgb\n",
        "\n",
        "\n",
        "    return [\"LightGBM\", np.mean(aucs), np.mean(accs), np.mean(precs), np.mean(recs), np.mean(f1s), round(time.time()-start, 2)], models\n",
        "\n",
        "\n",
        "res, lgb_models = train_lightgbm_multilabel(X_train_tfidf, y_train, X_valid_tfidf, y_valid, labels)\n",
        "results.append(res)\n",
        "models[\"LightGBM\"] = lgb_models"
      ]
    },
    {
      "cell_type": "code",
      "execution_count": 40,
      "metadata": {
        "colab": {
          "base_uri": "https://localhost:8080/",
          "height": 939
        },
        "id": "gbuhdGlL3Z6m",
        "outputId": "df6444b5-8b60-4ea1-b74e-1dcfadaad27d"
      },
      "outputs": [
        {
          "name": "stdout",
          "output_type": "stream",
          "text": [
            "\n",
            "=== Model Comparison on 50k Subset ===\n",
            "                  Model   ROC-AUC  Accuracy  Precision    Recall        F1  \\\n",
            "0   Logistic Regression  0.954665  0.763733   0.774822  0.456016  0.553869   \n",
            "11             LightGBM  0.947143  0.947933   0.734350  0.469079  0.547356   \n",
            "5         Decision Tree  0.714568  0.732133   0.646498  0.466293  0.537780   \n",
            "10    Gradient Boosting  0.915454  0.745600   0.687457  0.419121  0.515619   \n",
            "8           Extra Trees  0.939870  0.762133   0.713225  0.423481  0.492709   \n",
            "2         Random Forest  0.944534  0.758800   0.742919  0.409140  0.483664   \n",
            "9              AdaBoost  0.890494  0.716000   0.767197  0.263733  0.382718   \n",
            "1           Naive Bayes  0.892995  0.740000   0.598522  0.293596  0.361943   \n",
            "6                   KNN  0.649922  0.654267   0.676921  0.135733  0.217328   \n",
            "4      Ridge Classifier  0.939709  0.678133   0.652305  0.055136  0.099484   \n",
            "7        SGD Classifier  0.941613  0.673867   0.473902  0.040354  0.072455   \n",
            "3            Linear SVC  0.937555  0.674533   0.456276  0.039929  0.071412   \n",
            "\n",
            "    Train Time (s)  \n",
            "0             5.34  \n",
            "11          128.15  \n",
            "5            29.51  \n",
            "10          513.28  \n",
            "8          1574.22  \n",
            "2           914.26  \n",
            "9           254.51  \n",
            "1             0.32  \n",
            "6            47.04  \n",
            "4             1.29  \n",
            "7             0.58  \n",
            "3             3.79  \n"
          ]
        },
        {
          "data": {
            "image/png": "[encoded data removed]",
            "text/plain": [
              "<Figure size 1200x600 with 1 Axes>"
            ]
          },
          "metadata": {},
          "output_type": "display_data"
        }
      ],
      "source": [
        "results_df = pd.DataFrame(results, columns=[\"Model\", \"ROC-AUC\", \"Accuracy\", \"Precision\", \"Recall\", \"F1\", \"Train Time (s)\"])\n",
        "print(\"\\n=== Model Comparison on 50k Subset ===\")\n",
        "print(results_df.sort_values(by=\"F1\", ascending=False))\n",
        "\n",
        "\n",
        "plt.figure(figsize=(12,6))\n",
        "plt.barh(results_df[\"Model\"], results_df[\"ROC-AUC\"])\n",
        "plt.xlabel(\"ROC-AUC\")\n",
        "plt.title(\"Model Comparison (50k subset)\")\n",
        "plt.show()"
      ]
    },
    {
      "cell_type": "code",
      "execution_count": 41,
      "metadata": {
        "id": "vTYkO55q3Z4g"
      },
      "outputs": [],
      "source": [
        "from tensorflow.keras.preprocessing.text import Tokenizer\n",
        "from tensorflow.keras.preprocessing.sequence import pad_sequences\n",
        "from tensorflow.keras.models import Model\n",
        "from tensorflow.keras.layers import Input, Embedding, LSTM, Dense, Dropout, Bidirectional\n",
        "from tensorflow.keras.callbacks import EarlyStopping\n",
        "\n",
        "\n",
        "MAX_WORDS = 20000\n",
        "MAX_LEN = 100\n",
        "\n",
        "\n",
        "tokenizer = Tokenizer(num_words=MAX_WORDS)\n",
        "tokenizer.fit_on_texts(X_train)\n",
        "\n",
        "\n",
        "X_train_seq = tokenizer.texts_to_sequences(X_train)\n",
        "X_valid_seq = tokenizer.texts_to_sequences(X_valid)\n",
        "\n",
        "\n",
        "X_train_pad = pad_sequences(X_train_seq, maxlen=MAX_LEN)\n",
        "X_valid_pad = pad_sequences(X_valid_seq, maxlen=MAX_LEN)"
      ]
    },
    {
      "cell_type": "code",
      "execution_count": 42,
      "metadata": {
        "colab": {
          "base_uri": "https://localhost:8080/"
        },
        "id": "orFt3Get3Z2b",
        "outputId": "65891fce-c90f-4b9e-ad6f-41323aca11db"
      },
      "outputs": [
        {
          "name": "stdout",
          "output_type": "stream",
          "text": [
            "Epoch 1/10\n",
            "\u001b[1m274/274\u001b[0m \u001b[32m━━━━━━━━━━━━━━━━━━━━\u001b[0m\u001b[37m\u001b[0m \u001b[1m123s\u001b[0m 434ms/step - accuracy: 0.8565 - loss: 0.3021 - val_accuracy: 0.9819 - val_loss: 0.1434\n",
            "Epoch 2/10\n",
            "\u001b[1m274/274\u001b[0m \u001b[32m━━━━━━━━━━━━━━━━━━━━\u001b[0m\u001b[37m\u001b[0m \u001b[1m140s\u001b[0m 425ms/step - accuracy: 0.9442 - loss: 0.1306 - val_accuracy: 0.9819 - val_loss: 0.1342\n",
            "Epoch 3/10\n",
            "\u001b[1m274/274\u001b[0m \u001b[32m━━━━━━━━━━━━━━━━━━━━\u001b[0m\u001b[37m\u001b[0m \u001b[1m115s\u001b[0m 420ms/step - accuracy: 0.9490 - loss: 0.1129 - val_accuracy: 0.9819 - val_loss: 0.1346\n",
            "Epoch 4/10\n",
            "\u001b[1m274/274\u001b[0m \u001b[32m━━━━━━━━━━━━━━━━━━━━\u001b[0m\u001b[37m\u001b[0m \u001b[1m115s\u001b[0m 420ms/step - accuracy: 0.9251 - loss: 0.1038 - val_accuracy: 0.9756 - val_loss: 0.1345\n"
          ]
        }
      ],
      "source": [
        "def build_lstm_model(input_len, vocab_size, num_labels):\n",
        "    inputs = Input(shape=(input_len,))\n",
        "    x = Embedding(vocab_size, 128)(inputs)\n",
        "    x = Bidirectional(LSTM(64, return_sequences=False))(x)\n",
        "    x = Dropout(0.3)(x)\n",
        "    outputs = Dense(num_labels, activation=\"sigmoid\")(x)\n",
        "\n",
        "\n",
        "    model = Model(inputs, outputs)\n",
        "    model.compile(loss=\"binary_crossentropy\", optimizer=\"adam\", metrics=[\"accuracy\"])\n",
        "    return model\n",
        "\n",
        "\n",
        "lstm_model = build_lstm_model(MAX_LEN, MAX_WORDS, len(labels))\n",
        "\n",
        "\n",
        "early_stop = EarlyStopping(monitor=\"val_loss\", patience=2, restore_best_weights=True)\n",
        "\n",
        "\n",
        "history = lstm_model.fit(\n",
        "    X_train_pad, y_train.values,\n",
        "    validation_data=(X_valid_pad, y_valid.values),\n",
        "    epochs=10,\n",
        "    batch_size=128,\n",
        "    callbacks=[early_stop],\n",
        "    verbose=1\n",
        ")"
      ]
    },
    {
      "cell_type": "code",
      "execution_count": 43,
      "metadata": {
        "colab": {
          "base_uri": "https://localhost:8080/"
        },
        "id": "lyKPpCNh3Z0W",
        "outputId": "838878aa-2ec4-42a2-a32f-1bee31e8edeb"
      },
      "outputs": [
        {
          "name": "stdout",
          "output_type": "stream",
          "text": [
            "\u001b[1m235/235\u001b[0m \u001b[32m━━━━━━━━━━━━━━━━━━━━\u001b[0m\u001b[37m\u001b[0m \u001b[1m9s\u001b[0m 39ms/step\n",
            "LSTM F1-macro: 0.4071564459715092\n"
          ]
        }
      ],
      "source": [
        "from sklearn.metrics import f1_score\n",
        "y_pred_lstm = (lstm_model.predict(X_valid_pad) > 0.5).astype(int)\n",
        "\n",
        "\n",
        "f1_macro_lstm = f1_score(y_valid, y_pred_lstm, average=\"macro\")\n",
        "print(\"LSTM F1-macro:\", f1_macro_lstm)"
      ]
    },
    {
      "cell_type": "code",
      "execution_count": 44,
      "metadata": {
        "colab": {
          "base_uri": "https://localhost:8080/",
          "height": 1000
        },
        "id": "TSVBknZi3ZyR",
        "outputId": "321b86f0-5a7f-432d-f1f7-8855a231b707"
      },
      "outputs": [
        {
          "name": "stdout",
          "output_type": "stream",
          "text": [
            "\n",
            "=== Logistic Regression Classification Report ===\n",
            "               precision    recall  f1-score   support\n",
            "\n",
            "        toxic       0.90      0.77      0.83      2311\n",
            " severe_toxic       0.50      0.21      0.29       246\n",
            "      obscene       0.90      0.67      0.76      1290\n",
            "       threat       0.56      0.13      0.22        75\n",
            "       insult       0.80      0.57      0.66      1241\n",
            "identity_hate       0.70      0.29      0.41       229\n",
            "\n",
            "    micro avg       0.86      0.65      0.74      5392\n",
            "    macro avg       0.72      0.44      0.53      5392\n",
            " weighted avg       0.84      0.65      0.73      5392\n",
            "  samples avg       0.22      0.20      0.20      5392\n",
            "\n"
          ]
        },
        {
          "name": "stderr",
          "output_type": "stream",
          "text": [
            "/usr/local/lib/python3.12/dist-packages/sklearn/metrics/_classification.py:1565: UndefinedMetricWarning: Precision is ill-defined and being set to 0.0 in samples with no predicted labels. Use `zero_division` parameter to control this behavior.\n",
            "  _warn_prf(average, modifier, f\"{metric.capitalize()} is\", len(result))\n",
            "/usr/local/lib/python3.12/dist-packages/sklearn/metrics/_classification.py:1565: UndefinedMetricWarning: Recall is ill-defined and being set to 0.0 in samples with no true labels. Use `zero_division` parameter to control this behavior.\n",
            "  _warn_prf(average, modifier, f\"{metric.capitalize()} is\", len(result))\n",
            "/usr/local/lib/python3.12/dist-packages/sklearn/metrics/_classification.py:1565: UndefinedMetricWarning: F-score is ill-defined and being set to 0.0 in samples with no true nor predicted labels. Use `zero_division` parameter to control this behavior.\n",
            "  _warn_prf(average, modifier, f\"{metric.capitalize()} is\", len(result))\n"
          ]
        },
        {
          "data": {
            "image/png": "[encoded data removed]",
            "text/plain": [
              "<Figure size 640x480 with 2 Axes>"
            ]
          },
          "metadata": {},
          "output_type": "display_data"
        },
        {
          "name": "stdout",
          "output_type": "stream",
          "text": [
            "\n",
            "=== LightGBM Classification Report ===\n"
          ]
        },
        {
          "name": "stderr",
          "output_type": "stream",
          "text": [
            "/usr/local/lib/python3.12/dist-packages/sklearn/utils/validation.py:2739: UserWarning: X does not have valid feature names, but LGBMClassifier was fitted with feature names\n",
            "  warnings.warn(\n",
            "/usr/local/lib/python3.12/dist-packages/sklearn/metrics/_classification.py:1565: UndefinedMetricWarning: Precision is ill-defined and being set to 0.0 in samples with no predicted labels. Use `zero_division` parameter to control this behavior.\n",
            "  _warn_prf(average, modifier, f\"{metric.capitalize()} is\", len(result))\n",
            "/usr/local/lib/python3.12/dist-packages/sklearn/metrics/_classification.py:1565: UndefinedMetricWarning: Recall is ill-defined and being set to 0.0 in samples with no true labels. Use `zero_division` parameter to control this behavior.\n",
            "  _warn_prf(average, modifier, f\"{metric.capitalize()} is\", len(result))\n",
            "/usr/local/lib/python3.12/dist-packages/sklearn/metrics/_classification.py:1565: UndefinedMetricWarning: F-score is ill-defined and being set to 0.0 in samples with no true nor predicted labels. Use `zero_division` parameter to control this behavior.\n",
            "  _warn_prf(average, modifier, f\"{metric.capitalize()} is\", len(result))\n"
          ]
        },
        {
          "name": "stdout",
          "output_type": "stream",
          "text": [
            "               precision    recall  f1-score   support\n",
            "\n",
            "        toxic       0.90      0.76      0.83      2311\n",
            " severe_toxic       0.48      0.20      0.28       246\n",
            "      obscene       0.88      0.74      0.81      1290\n",
            "       threat       0.50      0.16      0.24        75\n",
            "       insult       0.77      0.66      0.71      1241\n",
            "identity_hate       0.69      0.27      0.39       229\n",
            "\n",
            "    micro avg       0.85      0.68      0.75      5392\n",
            "    macro avg       0.70      0.46      0.54      5392\n",
            " weighted avg       0.83      0.68      0.74      5392\n",
            "  samples avg       0.22      0.21      0.20      5392\n",
            "\n"
          ]
        },
        {
          "data": {
            "image/png": "[encoded data removed]",
            "text/plain": [
              "<Figure size 640x480 with 2 Axes>"
            ]
          },
          "metadata": {},
          "output_type": "display_data"
        },
        {
          "name": "stdout",
          "output_type": "stream",
          "text": [
            "\n",
            "=== Decision Tree Classification Report ===\n",
            "               precision    recall  f1-score   support\n",
            "\n",
            "        toxic       0.89      0.59      0.71      2311\n",
            " severe_toxic       0.32      0.21      0.25       246\n",
            "      obscene       0.84      0.71      0.77      1290\n",
            "       threat       0.38      0.19      0.25        75\n",
            "       insult       0.72      0.59      0.65      1241\n",
            "identity_hate       0.53      0.38      0.44       229\n",
            "\n",
            "    micro avg       0.79      0.59      0.68      5392\n",
            "    macro avg       0.61      0.44      0.51      5392\n",
            " weighted avg       0.79      0.59      0.67      5392\n",
            "  samples avg       0.18      0.17      0.17      5392\n",
            "\n"
          ]
        },
        {
          "name": "stderr",
          "output_type": "stream",
          "text": [
            "/usr/local/lib/python3.12/dist-packages/sklearn/metrics/_classification.py:1565: UndefinedMetricWarning: Precision is ill-defined and being set to 0.0 in samples with no predicted labels. Use `zero_division` parameter to control this behavior.\n",
            "  _warn_prf(average, modifier, f\"{metric.capitalize()} is\", len(result))\n",
            "/usr/local/lib/python3.12/dist-packages/sklearn/metrics/_classification.py:1565: UndefinedMetricWarning: Recall is ill-defined and being set to 0.0 in samples with no true labels. Use `zero_division` parameter to control this behavior.\n",
            "  _warn_prf(average, modifier, f\"{metric.capitalize()} is\", len(result))\n",
            "/usr/local/lib/python3.12/dist-packages/sklearn/metrics/_classification.py:1565: UndefinedMetricWarning: F-score is ill-defined and being set to 0.0 in samples with no true nor predicted labels. Use `zero_division` parameter to control this behavior.\n",
            "  _warn_prf(average, modifier, f\"{metric.capitalize()} is\", len(result))\n"
          ]
        },
        {
          "data": {
            "image/png": "[encoded data removed]",
            "text/plain": [
              "<Figure size 640x480 with 2 Axes>"
            ]
          },
          "metadata": {},
          "output_type": "display_data"
        }
      ],
      "source": [
        "from sklearn.metrics import ConfusionMatrixDisplay\n",
        "\n",
        "\n",
        "# Pick top 3 by F1\n",
        "best_models = results_df.sort_values(by=\"F1\", ascending=False).head(3)\n",
        "\n",
        "\n",
        "for m in best_models[\"Model\"]:\n",
        "    print(f\"\\n=== {m} Classification Report ===\")\n",
        "\n",
        "\n",
        "    if m == \"LightGBM\":\n",
        "        # Predict label-wise for LightGBM\n",
        "        preds = []\n",
        "        for i in range(X_test_tfidf.shape[0]):\n",
        "            row = []\n",
        "            for label, lgb in models[\"LightGBM\"].items():\n",
        "                prob = lgb.predict_proba(X_test_tfidf[i])[:,1][0]\n",
        "                row.append(1 if prob >= 0.5 else 0)\n",
        "            preds.append(row)\n",
        "        y_pred_bin = np.array(preds)\n",
        "    else:\n",
        "        clf = models[m]\n",
        "        if hasattr(clf, \"predict_proba\"):\n",
        "            y_pred = clf.predict_proba(X_test_tfidf)\n",
        "        else:\n",
        "            y_pred = clf.decision_function(X_test_tfidf)\n",
        "            y_pred = (y_pred - y_pred.min()) / (y_pred.max() - y_pred.min())\n",
        "        y_pred_bin = (y_pred >= 0.5).astype(int)\n",
        "\n",
        "\n",
        "    print(classification_report(y_test, y_pred_bin, target_names=labels))\n",
        "\n",
        "\n",
        "    cm = confusion_matrix(y_test.values.argmax(axis=1), y_pred_bin.argmax(axis=1))\n",
        "    disp = ConfusionMatrixDisplay(confusion_matrix=cm)\n",
        "    disp.plot(cmap=\"Blues\")\n",
        "    plt.title(f\"Confusion Matrix - {m}\")\n",
        "    plt.show()"
      ]
    },
    {
      "cell_type": "code",
      "execution_count": 46,
      "metadata": {
        "colab": {
          "base_uri": "https://localhost:8080/"
        },
        "id": "xcWPAkCJ3Zv6",
        "outputId": "6ab57e8b-8186-4506-a3d7-b6209f898127"
      },
      "outputs": [
        {
          "name": "stderr",
          "output_type": "stream",
          "text": [
            "WARNING:absl:You are saving your model as an HDF5 file via `model.save()` or `keras.saving.save_model(model)`. This file format is considered legacy. We recommend using instead the native Keras format, e.g. `model.save('my_model.keras')` or `keras.saving.save_model(model, 'my_model.keras')`. \n"
          ]
        },
        {
          "name": "stdout",
          "output_type": "stream",
          "text": [
            "Saved Logistic Regression as best_model_Logistic Regression.pkl\n",
            "Saved LSTM model as best_model_LSTM.h5\n"
          ]
        }
      ],
      "source": [
        "import joblib\n",
        "\n",
        "\n",
        "# Save best classical model\n",
        "best_classical = best_models.iloc[0][\"Model\"]\n",
        "if best_classical != \"LightGBM\":\n",
        "    joblib.dump(models[best_classical], f\"best_model_{best_classical}.pkl\")\n",
        "    print(f\"Saved {best_classical} as best_model_{best_classical}.pkl\")\n",
        "\n",
        "\n",
        "# Save LSTM\n",
        "lstm_model.save(\"best_model_LSTM.h5\")\n",
        "print(\"Saved LSTM model as best_model_LSTM.h5\")"
      ]
    },
    {
      "cell_type": "code",
      "execution_count": 53,
      "metadata": {
        "id": "gr3UdQ2R3Zt5"
      },
      "outputs": [],
      "source": [
        "def compare_models_on_texts(texts):\n",
        "    clean_texts = [clean_text(t) for t in texts]\n",
        "    X_tfidf = vectorizer.transform(clean_texts)\n",
        "    seq = tokenizer.texts_to_sequences(clean_texts)\n",
        "    pad = pad_sequences(seq, maxlen=MAX_LEN)\n",
        "\n",
        "\n",
        "    predictions = {}\n",
        "    for name in best_models[\"Model\"]:\n",
        "        if name in models: # Check if model exists in models dictionary\n",
        "            if name == \"LightGBM\":\n",
        "                preds = []\n",
        "                for i in range(X_tfidf.shape[0]):\n",
        "                    labels_on = []\n",
        "                    for label, lgb in models[\"LightGBM\"].items():\n",
        "                        prob = lgb.predict_proba(X_tfidf[i])[:,1][0]\n",
        "                        if prob > 0.5:\n",
        "                            labels_on.append(label)\n",
        "                    preds.append(labels_on if labels_on else [\"clean\"])\n",
        "                predictions[name] = preds\n",
        "\n",
        "\n",
        "            elif name == \"LSTM\":\n",
        "                # Check if lstm_model exists as a global variable\n",
        "                if 'lstm_model' in globals() and lstm_model is not None:\n",
        "                    preds = (lstm_model.predict(pad) > 0.5).astype(int)\n",
        "                    pred_labels = []\n",
        "                    for p in preds:\n",
        "                        pred_labels.append([labels[i] for i, v in enumerate(p) if v==1] or [\"clean\"])\n",
        "                    predictions[name] = pred_labels\n",
        "                else:\n",
        "                    print(f\"LSTM model not found or not trained. Skipping {name}.\")\n",
        "\n",
        "\n",
        "            else:\n",
        "                clf = models[name]\n",
        "                if hasattr(clf, \"predict_proba\"):\n",
        "                    probs = clf.predict_proba(X_tfidf)\n",
        "                else:\n",
        "                    probs = clf.decision_function(X_tfidf)\n",
        "                    probs = (probs - probs.min()) / (probs.max() - probs.min())\n",
        "                preds = []\n",
        "                for row in probs:\n",
        "                    labels_on = [labels[i] for i, p in enumerate(row) if p > 0.5]\n",
        "                    preds.append(labels_on if labels_on else [\"clean\"])\n",
        "                predictions[name] = preds\n",
        "        else:\n",
        "            print(f\"Model '{name}' not found in 'models' dictionary. Skipping.\")\n",
        "\n",
        "\n",
        "    return predictions"
      ]
    },
    {
      "cell_type": "code",
      "execution_count": 55,
      "metadata": {
        "colab": {
          "base_uri": "https://localhost:8080/"
        },
        "id": "QPqwzgRw5NWC",
        "outputId": "f7966047-1bbd-46c0-8fc0-b179da70859d"
      },
      "outputs": [
        {
          "name": "stdout",
          "output_type": "stream",
          "text": [
            "\n",
            "=== Logistic Regression Predictions ===\n",
            "Text: You are an idiot and I hate you!\n",
            " → ['toxic', 'obscene', 'insult']\n",
            "Text: Have a nice day my friend!\n",
            " → ['clean']\n",
            "Text: I will kill you tonight\n",
            " → ['toxic', 'threat']\n",
            "Text: This is a beautiful day son of bitch\n",
            " → ['toxic', 'obscene', 'insult']\n",
            "Text: Thank you for your help fuck \n",
            " → ['toxic', 'obscene']\n",
            "\n",
            "=== LightGBM Predictions ===\n",
            "Text: You are an idiot and I hate you!\n",
            " → ['toxic', 'insult']\n",
            "Text: Have a nice day my friend!\n",
            " → ['clean']\n",
            "Text: I will kill you tonight\n",
            " → ['toxic']\n",
            "Text: This is a beautiful day son of bitch\n",
            " → ['toxic', 'obscene', 'insult']\n",
            "Text: Thank you for your help fuck \n",
            " → ['toxic', 'obscene']\n",
            "\n",
            "=== Decision Tree Predictions ===\n",
            "Text: You are an idiot and I hate you!\n",
            " → ['toxic', 'insult']\n",
            "Text: Have a nice day my friend!\n",
            " → ['clean']\n",
            "Text: I will kill you tonight\n",
            " → ['toxic']\n",
            "Text: This is a beautiful day son of bitch\n",
            " → ['toxic', 'obscene', 'insult']\n",
            "Text: Thank you for your help fuck \n",
            " → ['toxic', 'obscene', 'insult']\n"
          ]
        }
      ],
      "source": [
        "test_comments = [\n",
        "\"You are an idiot and I hate you!\",\n",
        "\"Have a nice day my friend!\",\n",
        "\"I will kill you tonight\",\n",
        "\"This is a beautiful day son of bitch\",\n",
        "\"Thank you for your help fuck \"\n",
        "]\n",
        "\n",
        "\n",
        "final_preds = compare_models_on_texts(test_comments)\n",
        "for model_name, preds in final_preds.items():\n",
        "    print(f\"\\n=== {model_name} Predictions ===\")\n",
        "    for txt, pred in zip(test_comments, preds):\n",
        "        print(f\"Text: {txt}\\n → {pred}\")"
      ]
    },
    {
      "cell_type": "code",
      "execution_count": null,
      "metadata": {
        "id": "1jTkVJKe5NTt"
      },
      "outputs": [],
      "source": []
    },
    {
      "cell_type": "code",
      "execution_count": null,
      "metadata": {
        "id": "YCCnmLhK5NQ6"
      },
      "outputs": [],
      "source": []
    }
  ],
  "metadata": {
    "colab": {
      "provenance": []
    },
    "kernelspec": {
      "display_name": "Python 3",
      "name": "python3"
    },
    "language_info": {
      "name": "python"
    }
  },
  "nbformat": 4,
  "nbformat_minor": 0
}
